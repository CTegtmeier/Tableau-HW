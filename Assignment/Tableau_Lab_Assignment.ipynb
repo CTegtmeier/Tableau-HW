{
 "cells": [
  {
   "cell_type": "markdown",
   "id": "subtle-collins",
   "metadata": {},
   "source": [
    "# Tableau Assignment"
   ]
  },
  {
   "cell_type": "markdown",
   "id": "alike-collins",
   "metadata": {},
   "source": [
    "### Activity 1:\n",
    "\n",
    "**Connect to the superstore sales data, compare sales and quantity over time in a single chart, create a bubble chart to show customer sales, profit, and quantity, and create bar chart to show sales and profit ratio over time by each ship mode.**\n",
    "\n",
    "Instruction:\n",
    "- Make a connection to your clean data set\n",
    "\n",
    "- Create a dual axis chart to compare sales and quantity over time, making sure the quantity is a bar chart\n",
    "\n",
    "![assignment1](../Images/assignment1.png)\n",
    "\n",
    "- Create a bubble chart showing sales and profit and sized by quantity for each state, then color the marks by Profit / Not Profit (calculated field)\n",
    "\n",
    "Note: You need to create the Profit / Not Profit calculated fielf through Analysis.\n",
    "\n",
    "\n",
    "![assignment2](../Images/assignment2.png)\n",
    "\n",
    "- Create side-by-side bar chart for sales and profit ratio over time for each ship mode. Color the marks by ship mode.\n",
    "\n",
    "![assignment3](../Images/assignment3.png)"
   ]
  },
  {
   "cell_type": "markdown",
   "id": "extra-brooklyn",
   "metadata": {},
   "source": [
    "## Activity 2:\n",
    "\n",
    "**Which region made at least 13K profit in the home office segment?**\n",
    "\n",
    "Instruction:\n",
    "- Build a bar chart showing sales by region and segment\n",
    "- Color the sales bars to show the amount of profit\n",
    "- Create two filters, one for segment and one for profit\n",
    "- Find out which region made 13K profit in the home office segment\n",
    "\n",
    "![assignment4](../Images/assignment4.png)"
   ]
  },
  {
   "cell_type": "markdown",
   "id": "guilty-earth",
   "metadata": {},
   "source": [
    "## Activity 3:\n",
    "\n",
    "**Connect to the super store sales data and create a map of the US states, showing the sales by segment for each state.**\n",
    "\n",
    "Instruction:\n",
    "- Make a connection to the clean data set\n",
    "- Create map using country and state\n",
    "- Filter to show the USA\n",
    "- Change the mark type to be a pie chart\n",
    "- Change the pie chart to be colored by segment and sized by sales\n",
    "\n",
    "![assignment5](../Images/assignment5.png)"
   ]
  },
  {
   "cell_type": "markdown",
   "id": "partial-fitting",
   "metadata": {},
   "source": [
    "## Activity 4:\n",
    "\n",
    "**Connect to the superstore sales data, create three of four sheets, and combine them in a dashboard using containers.**\n",
    "\n",
    "Instruction:\n",
    "\n",
    "- Make a connection to the clean data set\n",
    "- Create three or four charts of your choosing\n",
    "- Use layout containers to add them to a dashboard\n",
    "- Use a filter action to filter some of the views when a selection is made in one sheet\n",
    "- Use a highlight action to highlight some of the remaining views"
   ]
  },
  {
   "cell_type": "markdown",
   "id": "b2ee9c4d",
   "metadata": {},
   "source": [
    "Note: All visualiztions are below and clickable. Link is included as well for Tableau Public: https://public.tableau.com/views/LabAssignment_16848873041820/DualAxisChart?:language=en-US&:display_count=n&:origin=viz_share_link"
   ]
  },
  {
   "cell_type": "code",
   "execution_count": 1,
   "id": "019caa4f",
   "metadata": {},
   "outputs": [
    {
     "data": {
      "text/html": [
       "<div class='tableauPlaceholder' id='viz1684887459515' style='position: relative'><noscript><a href='#'><img alt=' ' src='https:&#47;&#47;public.tableau.com&#47;static&#47;images&#47;La&#47;LabAssignment_16848873041820&#47;DualAxisChart&#47;1_rss.png' style='border: none' /></a></noscript><object class='tableauViz'  style='display:none;'><param name='host_url' value='https%3A%2F%2Fpublic.tableau.com%2F' /> <param name='embed_code_version' value='3' /> <param name='site_root' value='' /><param name='name' value='LabAssignment_16848873041820&#47;DualAxisChart' /><param name='tabs' value='yes' /><param name='toolbar' value='yes' /><param name='static_image' value='https:&#47;&#47;public.tableau.com&#47;static&#47;images&#47;La&#47;LabAssignment_16848873041820&#47;DualAxisChart&#47;1.png' /> <param name='animate_transition' value='yes' /><param name='display_static_image' value='yes' /><param name='display_spinner' value='yes' /><param name='display_overlay' value='yes' /><param name='display_count' value='yes' /><param name='language' value='en-US' /></object></div>                <script type='text/javascript'>                    var divElement = document.getElementById('viz1684887459515');                    var vizElement = divElement.getElementsByTagName('object')[0];                    vizElement.style.width='100%';vizElement.style.height=(divElement.offsetWidth*0.75)+'px';                    var scriptElement = document.createElement('script');                    scriptElement.src = 'https://public.tableau.com/javascripts/api/viz_v1.js';                    vizElement.parentNode.insertBefore(scriptElement, vizElement);                </script>\n"
      ],
      "text/plain": [
       "<IPython.core.display.HTML object>"
      ]
     },
     "metadata": {},
     "output_type": "display_data"
    }
   ],
   "source": [
    "%%html\n",
    "<div class='tableauPlaceholder' id='viz1684887459515' style='position: relative'><noscript><a href='#'><img alt=' ' src='https:&#47;&#47;public.tableau.com&#47;static&#47;images&#47;La&#47;LabAssignment_16848873041820&#47;DualAxisChart&#47;1_rss.png' style='border: none' /></a></noscript><object class='tableauViz'  style='display:none;'><param name='host_url' value='https%3A%2F%2Fpublic.tableau.com%2F' /> <param name='embed_code_version' value='3' /> <param name='site_root' value='' /><param name='name' value='LabAssignment_16848873041820&#47;DualAxisChart' /><param name='tabs' value='yes' /><param name='toolbar' value='yes' /><param name='static_image' value='https:&#47;&#47;public.tableau.com&#47;static&#47;images&#47;La&#47;LabAssignment_16848873041820&#47;DualAxisChart&#47;1.png' /> <param name='animate_transition' value='yes' /><param name='display_static_image' value='yes' /><param name='display_spinner' value='yes' /><param name='display_overlay' value='yes' /><param name='display_count' value='yes' /><param name='language' value='en-US' /></object></div>                <script type='text/javascript'>                    var divElement = document.getElementById('viz1684887459515');                    var vizElement = divElement.getElementsByTagName('object')[0];                    vizElement.style.width='100%';vizElement.style.height=(divElement.offsetWidth*0.75)+'px';                    var scriptElement = document.createElement('script');                    scriptElement.src = 'https://public.tableau.com/javascripts/api/viz_v1.js';                    vizElement.parentNode.insertBefore(scriptElement, vizElement);                </script>"
   ]
  },
  {
   "cell_type": "code",
   "execution_count": null,
   "id": "exempt-canvas",
   "metadata": {},
   "outputs": [],
   "source": []
  }
 ],
 "metadata": {
  "hide_input": false,
  "kernelspec": {
   "display_name": "Python 3",
   "language": "python",
   "name": "python3"
  },
  "language_info": {
   "codemirror_mode": {
    "name": "ipython",
    "version": 3
   },
   "file_extension": ".py",
   "mimetype": "text/x-python",
   "name": "python",
   "nbconvert_exporter": "python",
   "pygments_lexer": "ipython3",
   "version": "3.8.8"
  },
  "latex_envs": {
   "LaTeX_envs_menu_present": true,
   "autoclose": false,
   "autocomplete": true,
   "bibliofile": "biblio.bib",
   "cite_by": "apalike",
   "current_citInitial": 1,
   "eqLabelWithNumbers": true,
   "eqNumInitial": 1,
   "hotkeys": {
    "equation": "Ctrl-E",
    "itemize": "Ctrl-I"
   },
   "labels_anchors": false,
   "latex_user_defs": false,
   "report_style_numbering": false,
   "user_envs_cfg": false
  },
  "nbTranslate": {
   "displayLangs": [
    "*"
   ],
   "hotkey": "alt-t",
   "langInMainMenu": true,
   "sourceLang": "en",
   "targetLang": "fr",
   "useGoogleTranslate": true
  },
  "toc": {
   "base_numbering": 1,
   "nav_menu": {},
   "number_sections": false,
   "sideBar": true,
   "skip_h1_title": false,
   "title_cell": "Table of Contents",
   "title_sidebar": "Contents",
   "toc_cell": false,
   "toc_position": {},
   "toc_section_display": true,
   "toc_window_display": false
  },
  "varInspector": {
   "cols": {
    "lenName": 16,
    "lenType": 16,
    "lenVar": 40
   },
   "kernels_config": {
    "python": {
     "delete_cmd_postfix": "",
     "delete_cmd_prefix": "del ",
     "library": "var_list.py",
     "varRefreshCmd": "print(var_dic_list())"
    },
    "r": {
     "delete_cmd_postfix": ") ",
     "delete_cmd_prefix": "rm(",
     "library": "var_list.r",
     "varRefreshCmd": "cat(var_dic_list()) "
    }
   },
   "types_to_exclude": [
    "module",
    "function",
    "builtin_function_or_method",
    "instance",
    "_Feature"
   ],
   "window_display": false
  }
 },
 "nbformat": 4,
 "nbformat_minor": 5
}
